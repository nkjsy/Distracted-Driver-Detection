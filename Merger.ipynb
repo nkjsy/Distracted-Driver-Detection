{
 "cells": [
  {
   "cell_type": "markdown",
   "metadata": {},
   "source": [
    "\n",
    "# 融合模型\n",
    "\n",
    "### 导入需要使用的库\n",
    "包括基于tensorflow的keras，OpenCV，numpy，pandas，sklearn等。"
   ]
  },
  {
   "cell_type": "code",
   "execution_count": 1,
   "metadata": {
    "collapsed": true
   },
   "outputs": [],
   "source": [
    "import numpy as np\n",
    "import pandas as pd\n",
    "import os"
   ]
  },
  {
   "cell_type": "code",
   "execution_count": 3,
   "metadata": {
    "collapsed": true
   },
   "outputs": [],
   "source": [
    "sum = pd.read_csv('sample_submission.csv')\n",
    "id = sum['img']\n",
    "sum = sum[['c0', 'c1', 'c2', 'c3', 'c4', 'c5', 'c6', 'c7', 'c8', 'c9']]\n",
    "for i in [1,9, 11, 13]:\n",
    "    result = pd.read_csv('my_submission%d.csv'%i)\n",
    "    sum += result\n",
    "sum /= 4.0\n",
    "#sum = np.clip(sum, 0.005, 0.995)\n",
    "sum.insert(0, 'img', pd.Series(id, index=sum.index))\n",
    "sum.to_csv('f_submission.csv', index=False)"
   ]
  },
  {
   "cell_type": "code",
   "execution_count": null,
   "metadata": {
    "collapsed": true
   },
   "outputs": [],
   "source": []
  }
 ],
 "metadata": {
  "anaconda-cloud": {},
  "kernelspec": {
   "display_name": "Python 3",
   "language": "python",
   "name": "python3"
  },
  "language_info": {
   "codemirror_mode": {
    "name": "ipython",
    "version": 3
   },
   "file_extension": ".py",
   "mimetype": "text/x-python",
   "name": "python",
   "nbconvert_exporter": "python",
   "pygments_lexer": "ipython3",
   "version": "3.5.4"
  },
  "widgets": {
   "state": {},
   "version": "1.1.2"
  }
 },
 "nbformat": 4,
 "nbformat_minor": 1
}
